{
 "cells": [
  {
   "cell_type": "markdown",
   "metadata": {},
   "source": [
    "# Workshop: *Anomaly detection from sensor data*\n",
    "\n",
    "Course: NICF- Intelligent Sensing and Sense Making (SF)\n",
    "\n",
    "Website: https://www.iss.nus.edu.sg/executive-education/course/detail/intelligent-sensing-and-sense-making/analytics-and-intelligent-systems\n",
    "\n",
    "Contact: Tian Jing\n",
    "\n",
    "Email: tianjing@nus.edu.sg\n",
    "\n",
    "## Objective\n",
    "\n",
    "In this workshop, we will perform following three tasks:\n",
    "- Introduction to autoencoder model and Keras\n",
    "- Perform anomaly detection using autoencoder as reconstruction model\n",
    "\n",
    "## Installation guideline\n",
    "\n",
    "- Open `Anaconda Prompt`\n",
    "\n",
    "- Append the channel `conda-forge` into your conda configuration.\n",
    "\n",
    "`conda config --append channels conda-forge`\n",
    "\n",
    "- Create a new virtual environment `issmv` or install additional packages in your own environment\n",
    "\n",
    "**[Windows, CPU version]**\n",
    "\n",
    "`conda create -n issmv python=3.6 numpy=1.15.1 matplotlib=2.2.3 tensorflow=1.10.0 scipy=1.1.0 scikit-learn=0.19.1 spyder=3.3.2 yaml=0.1.7 keras=2.2.4 notebook=5.7.4 pandas=0.24.2 pywavelets=1.0.2`\n",
    "\n",
    "**[Windows, GPU version, CUDA 9.0]**\n",
    "\n",
    "`conda create -n issmv python=3.6 numpy=1.15.1 matplotlib=2.2.3 tensorflow-gpu=1.12.0 scipy=1.1.0 scikit-learn=0.19.1 spyder=3.3.2 yaml=0.1.7 keras-gpu=2.2.4 notebook=5.7.4 pandas=0.24.2 pywavelets=1.0.2`\n",
    "\n",
    "**[Google Colab]**\n",
    "\n",
    "Refer to another notebook file `wk_abnormal_colab_v4.1.ipynb`\n",
    "\n",
    "- Activate the environment `issmv`\n",
    "\n",
    "`conda activate issmv`\n",
    "\n",
    "- Browse to the folder that contains the workshop files, then run jupyter notebook\n",
    "\n",
    "`jupyter notebook`\n",
    "\n",
    "\n",
    "## Submission guideline\n",
    "\n",
    "Once you finish the workshop, rename your .ipynb file to your name, and submit your .ipynb file into LumiNUS."
   ]
  },
  {
   "cell_type": "markdown",
   "metadata": {},
   "source": [
    "# Exercise 1: Build autoencoder model in Keras\n"
   ]
  },
  {
   "cell_type": "code",
   "execution_count": 1,
   "metadata": {},
   "outputs": [
    {
     "name": "stderr",
     "output_type": "stream",
     "text": [
      "Using TensorFlow backend.\n"
     ]
    }
   ],
   "source": [
    "import os\n",
    "import numpy as np\n",
    "import keras\n",
    "import pickle\n",
    "import pandas as pd\n",
    "from keras.utils import plot_model\n",
    "from keras.datasets import fashion_mnist\n",
    "from keras.models import Model\n",
    "from keras.models import Sequential\n",
    "from keras.layers import Dense, Input\n",
    "import matplotlib.pyplot as plt\n",
    "%matplotlib inline\n",
    "from sklearn.metrics import mean_squared_error\n",
    "from sklearn.preprocessing import MinMaxScaler\n"
   ]
  },
  {
   "cell_type": "code",
   "execution_count": 2,
   "metadata": {},
   "outputs": [],
   "source": [
    "# Configuration on autoencoder model\n",
    "\n",
    "# Dimension of input signal, determined by your test data\n",
    "signal_dimension = 784 \n",
    "\n",
    "# Dimension of encoded features, can be adjusted by user\n",
    "encoder_dimension = 2\n",
    "\n",
    "# training setup\n",
    "EPOCHS = 5\n",
    "BATCH_SIZE = 64\n"
   ]
  },
  {
   "cell_type": "code",
   "execution_count": 3,
   "metadata": {},
   "outputs": [],
   "source": [
    "# Define an autoencoder model using Sequential method\n",
    "\n",
    "def AE_method1(x_train):\n",
    "    FINAL_DIM = 900\n",
    "    data_dim = data_train.shape[1]\n",
    "    autoencoder = Sequential()\n",
    "    autoencoder.add(Dense(encoder_dimension, activation='relu', input_shape=(signal_dimension, ), name='layer1'))\n",
    "    autoencoder.add(Dense(signal_dimension, activation='relu',name='layer2'))\n",
    "    autoencoder.compile(optimizer='adam', loss='mse')\n",
    "    autoencoder.fit(x_train, x_train, epochs=EPOCHS, batch_size=BATCH_SIZE, shuffle=True)\n",
    "    \n",
    "    encoder = Model(inputs=autoencoder.input, outputs=autoencoder.get_layer('layer1').output)\n",
    "    return encoder, autoencoder\n"
   ]
  },
  {
   "cell_type": "code",
   "execution_count": 4,
   "metadata": {},
   "outputs": [],
   "source": [
    "# Show the encoding coefficients\n",
    "\n",
    "def show_encodings(inputs, latent_repr, outputs):\n",
    "    n = len(inputs)\n",
    "    fig, axes = plt.subplots(2, n)\n",
    "    for i in range(n):\n",
    "        print(i, '-th image, encoding coefficients are ', latent_repr[i,:])\n",
    "        axes[0, i].imshow(inputs[i].reshape(28, 28), cmap='gray')\n",
    "        axes[1, i].imshow(outputs[i].reshape(28, 28), cmap='gray')\n",
    "    for ax in axes.flatten():\n",
    "        ax.get_xaxis().set_visible(False)\n",
    "        ax.get_yaxis().set_visible(False)\n",
    "    plt.show()\n"
   ]
  },
  {
   "cell_type": "code",
   "execution_count": 5,
   "metadata": {},
   "outputs": [
    {
     "name": "stdout",
     "output_type": "stream",
     "text": [
      "(60000, 28, 28) (10000, 28, 28)\n"
     ]
    },
    {
     "data": {
      "image/png": "[encoded data removed]",
      "text/plain": [
       "<Figure size 432x288 with 10 Axes>"
      ]
     },
     "metadata": {
      "needs_background": "light"
     },
     "output_type": "display_data"
    }
   ],
   "source": [
    "# For the first time of running this code, it will automatically download fashion_mnist data from Internet\n",
    "# Load data\n",
    "(data_train, label_train), (data_test, label_test) = fashion_mnist.load_data()\n",
    "print(data_train.shape, data_test.shape)\n",
    "\n",
    "# Normalize\n",
    "data_train = data_train.astype('float32') / 255.\n",
    "data_test = data_test.astype('float32') / 255.\n",
    "\n",
    "# Plot the examples of original images\n",
    "fig, ax = plt.subplots(1, 10)\n",
    "for i in range(10):\n",
    "    ax[i].imshow(data_train[i], cmap='gray')\n",
    "    ax[i].axis('off')\n",
    "\n",
    "plt.show()\n",
    "\n",
    "data_train = data_train.reshape((data_train.shape[0], -1))\n",
    "data_test = data_test.reshape((data_test.shape[0], -1))\n"
   ]
  },
  {
   "cell_type": "code",
   "execution_count": 6,
   "metadata": {},
   "outputs": [
    {
     "name": "stdout",
     "output_type": "stream",
     "text": [
      "Epoch 1/5\n",
      "60000/60000 [==============================] - 3s 56us/step - loss: 0.0985\n",
      "Epoch 2/5\n",
      "60000/60000 [==============================] - 2s 31us/step - loss: 0.0917\n",
      "Epoch 3/5\n",
      "60000/60000 [==============================] - 2s 32us/step - loss: 0.0916\n",
      "Epoch 4/5\n",
      "60000/60000 [==============================] - 2s 32us/step - loss: 0.0914\n",
      "Epoch 5/5\n",
      "60000/60000 [==============================] - 2s 31us/step - loss: 0.0912\n",
      "_________________________________________________________________\n",
      "Layer (type)                 Output Shape              Param #   \n",
      "=================================================================\n",
      "layer1_input (InputLayer)    (None, 784)               0         \n",
      "_________________________________________________________________\n",
      "layer1 (Dense)               (None, 2)                 1570      \n",
      "=================================================================\n",
      "Total params: 1,570\n",
      "Trainable params: 1,570\n",
      "Non-trainable params: 0\n",
      "_________________________________________________________________\n",
      "_________________________________________________________________\n",
      "Layer (type)                 Output Shape              Param #   \n",
      "=================================================================\n",
      "layer1 (Dense)               (None, 2)                 1570      \n",
      "_________________________________________________________________\n",
      "layer2 (Dense)               (None, 784)               2352      \n",
      "=================================================================\n",
      "Total params: 3,922\n",
      "Trainable params: 3,922\n",
      "Non-trainable params: 0\n",
      "_________________________________________________________________\n"
     ]
    }
   ],
   "source": [
    "# Demo autoencoder using method 1 (Sequential method)\n",
    "\n",
    "model_encoder, model_autoencoder = AE_method1(x_train=data_train)\n",
    "model_encoder.summary()\n",
    "model_autoencoder.summary()\n"
   ]
  },
  {
   "cell_type": "code",
   "execution_count": 7,
   "metadata": {},
   "outputs": [
    {
     "name": "stdout",
     "output_type": "stream",
     "text": [
      "0 -th image, encoding coefficients are  [4.0504303  0.27439192]\n",
      "1 -th image, encoding coefficients are  [11.448587   7.0580306]\n",
      "2 -th image, encoding coefficients are  [0.7258463 9.854221 ]\n",
      "3 -th image, encoding coefficients are  [0.       7.711817]\n",
      "4 -th image, encoding coefficients are  [6.652237 4.346208]\n",
      "5 -th image, encoding coefficients are  [2.655509 7.91049 ]\n"
     ]
    },
    {
     "data": {
      "image/png": "[encoded data removed]",
      "text/plain": [
       "<Figure size 432x288 with 12 Axes>"
      ]
     },
     "metadata": {
      "needs_background": "light"
     },
     "output_type": "display_data"
    }
   ],
   "source": [
    "# Visualize the results and encoding coefficients\n",
    "\n",
    "num_sample = 6 # Number of test samples used for visualization\n",
    "data_encode = model_encoder.predict(data_test[:num_sample])\n",
    "\n",
    "data_rec = model_autoencoder.predict(data_test)\n",
    "show_encodings(data_test[:num_sample], data_encode, data_rec)\n"
   ]
  },
  {
   "cell_type": "code",
   "execution_count": 8,
   "metadata": {},
   "outputs": [],
   "source": [
    "# Define an autoencoder model using Functional method\n",
    "\n",
    "def AE_method2(x_train):\n",
    "    # input placeholder\n",
    "    input_image = Input(shape=(signal_dimension, ))\n",
    "\n",
    "    # encoding layer\n",
    "    hidden_layer = Dense(encoder_dimension, activation='relu')(input_image)\n",
    "\n",
    "    # decoding layer\n",
    "    decode_output = Dense(signal_dimension, activation='relu')(hidden_layer)\n",
    "\n",
    "    # build autoencoder, encoder, decoder\n",
    "    encoder = Model(inputs=input_image, outputs=hidden_layer)\n",
    "    autoencoder = Model(inputs=input_image, outputs=decode_output)\n",
    "\n",
    "    # compile autoencoder\n",
    "    autoencoder.compile(optimizer='adam', loss='mse')\n",
    "\n",
    "    # training\n",
    "    autoencoder.fit(x_train, x_train, epochs=EPOCHS, batch_size=BATCH_SIZE, shuffle=True)\n",
    "\n",
    "    return encoder, autoencoder\n"
   ]
  },
  {
   "cell_type": "markdown",
   "metadata": {},
   "source": [
    "$\\color{red}{\\text{Q1. Complete the code to build autoencoder model and visualize the encoding coefficients.}}$\n",
    "\n",
    "Tasks\n",
    "- Build an autoencoder model using AE_method2()\n",
    "- Plot the model summary\n",
    "- Perform prediction using the first 5 test samples\n",
    "- Visualize the original sample, encoding coefficients, reconstructed sample\n"
   ]
  },
  {
   "cell_type": "code",
   "execution_count": 9,
   "metadata": {},
   "outputs": [],
   "source": [
    "# Provide your code to Q1 here\n",
    "\n",
    "\n"
   ]
  },
  {
   "cell_type": "markdown",
   "metadata": {},
   "source": [
    "# Exercise 2: Machine health monitoring\n",
    "\n",
    "Reference: R. Zhao, R. Yan, Z. Chen, K. Mao, P. Wang, R. Gao, Deep learning and its applications to machine health monitoring, Mechanical Systems and Signal Processing, Vol. 115, Jan. 2019, pp. 213-237.\n",
    "- pdf paper, https://arxiv.org/abs/1612.07640\n",
    "- code, https://github.com/ClockworkBunny/MHMS_DEEPLEARNING"
   ]
  },
  {
   "cell_type": "code",
   "execution_count": 10,
   "metadata": {},
   "outputs": [],
   "source": [
    "# Configuration\n",
    "encoder_dimension = 10\n",
    "NUM_EPOCH = 10\n",
    "BATH_SIZE = 24\n"
   ]
  },
  {
   "cell_type": "code",
   "execution_count": 11,
   "metadata": {},
   "outputs": [],
   "source": [
    "# Define an autoencoder model using Sequantial method\n",
    "\n",
    "def build_AE_machine(data_train):\n",
    "    data_dim = data_train.shape[1]\n",
    "    ae = Sequential()\n",
    "    ae.add(Dense(encoder_dimension, activation='relu', input_shape=(data_dim, )))\n",
    "    ae.add(Dense(encoder_dimension, activation='relu'))\n",
    "    ae.add(Dense(data_dim, activation='relu'))\n",
    "    ae.compile(optimizer='adam', loss='mse')\n",
    "    ae.fit(data_train, data_train, epochs=NUM_EPOCH, batch_size=BATH_SIZE, shuffle=True)\n",
    "    \n",
    "    return ae\n"
   ]
  },
  {
   "cell_type": "code",
   "execution_count": 12,
   "metadata": {},
   "outputs": [
    {
     "name": "stdout",
     "output_type": "stream",
     "text": [
      "Epoch 1/10\n",
      "600/600 [==============================] - 0s 402us/step - loss: 0.5075\n",
      "Epoch 2/10\n",
      "600/600 [==============================] - 0s 95us/step - loss: 0.4567\n",
      "Epoch 3/10\n",
      "600/600 [==============================] - 0s 95us/step - loss: 0.4511\n",
      "Epoch 4/10\n",
      "600/600 [==============================] - 0s 93us/step - loss: 0.4504\n",
      "Epoch 5/10\n",
      "600/600 [==============================] - 0s 93us/step - loss: 0.4500\n",
      "Epoch 6/10\n",
      "600/600 [==============================] - 0s 93us/step - loss: 0.4498\n",
      "Epoch 7/10\n",
      "600/600 [==============================] - 0s 93us/step - loss: 0.4495\n",
      "Epoch 8/10\n",
      "600/600 [==============================] - 0s 93us/step - loss: 0.4492\n",
      "Epoch 9/10\n",
      "600/600 [==============================] - 0s 95us/step - loss: 0.4489\n",
      "Epoch 10/10\n",
      "600/600 [==============================] - 0s 93us/step - loss: 0.4485\n",
      "_________________________________________________________________\n",
      "Layer (type)                 Output Shape              Param #   \n",
      "=================================================================\n",
      "dense_1 (Dense)              (None, 10)                710       \n",
      "_________________________________________________________________\n",
      "dense_2 (Dense)              (None, 10)                110       \n",
      "_________________________________________________________________\n",
      "dense_3 (Dense)              (None, 70)                770       \n",
      "=================================================================\n",
      "Total params: 1,590\n",
      "Trainable params: 1,590\n",
      "Non-trainable params: 0\n",
      "_________________________________________________________________\n"
     ]
    }
   ],
   "source": [
    "# Load data \n",
    "x_train_pd = pd.read_csv(\"data/machine_sensor_train.csv\",header=None)\n",
    "x_train = x_train_pd.values\n",
    "x_test_pd = pd.read_csv(\"data/machine_sensor_test.csv\",header=None)\n",
    "x_test = x_test_pd.values\n",
    "\n",
    "# Train the model\n",
    "normal_AE = build_AE_machine(x_train)\n",
    "normal_AE.summary()\n"
   ]
  },
  {
   "cell_type": "code",
   "execution_count": 13,
   "metadata": {},
   "outputs": [
    {
     "name": "stdout",
     "output_type": "stream",
     "text": [
      "(1, 70)\n",
      "Normal: the distance is 6.74\n"
     ]
    }
   ],
   "source": [
    "sample_index = 0\n",
    "thre = 10 # A manually-defined threshold\n",
    "\n",
    "# Step 1: Select the test sample (such as the 0-th sample)\n",
    "test_data_orig = x_test[sample_index:sample_index+1,:]\n",
    "print(test_data_orig.shape)\n",
    "\n",
    "# Step 2: Perform prediction using the trained autoencoder model\n",
    "test_data_predict = normal_AE.predict(test_data_orig)\n",
    "\n",
    "# Step 3: Calculate the reconstruction error and make decision on anomaly detection\n",
    "dist = np.linalg.norm(test_data_orig - test_data_predict, axis=-1)\n",
    "\n",
    "if (dist>thre):\n",
    "    print('Anomaly detected: the distance is %.2f' % dist)\n",
    "else:\n",
    "    print('Normal: the distance is %.2f' % dist)\n",
    "    "
   ]
  },
  {
   "cell_type": "markdown",
   "metadata": {},
   "source": [
    "$\\color{red}{\\text{Q2. Complete the code to build autoencoder model for abnormal machine sensory signal detection.}}$\n",
    "\n",
    "Tasks\n",
    "- Build an autoencoder model using build_AE_machine()\n",
    "- Peform the test on x_test and determine the test data (row index) with LARGEST reconstruction error based on your trained model\n"
   ]
  },
  {
   "cell_type": "code",
   "execution_count": 14,
   "metadata": {},
   "outputs": [],
   "source": [
    "# Provide your code to Q2 here\n",
    "\n",
    "# Build an autoencoder model (you can tune model configuration such as encoder_dimension)\n",
    "\n",
    "# Perform prediction using the trained autoencoder model\n",
    "\n",
    "# Calculate the reconstruction error and make decision on anomaly detection\n",
    "# Determine the test data (row index) with LARGEST reconstruction error based on your trained model\n"
   ]
  },
  {
   "cell_type": "markdown",
   "metadata": {},
   "source": [
    "**Once you finish the workshop, rename your .ipynb file to your name, and submit your .ipynb file into LumiNUS.**\n",
    "\n",
    "Have a nice day!"
   ]
  }
 ],
 "metadata": {
  "kernelspec": {
   "display_name": "Python 3",
   "language": "python",
   "name": "python3"
  },
  "language_info": {
   "codemirror_mode": {
    "name": "ipython",
    "version": 3
   },
   "file_extension": ".py",
   "mimetype": "text/x-python",
   "name": "python",
   "nbconvert_exporter": "python",
   "pygments_lexer": "ipython3",
   "version": "3.6.8"
  }
 },
 "nbformat": 4,
 "nbformat_minor": 2
}
