{
  "nbformat": 4,
  "nbformat_minor": 0,
  "metadata": {
    "colab": {
      "name": "wk_abnormal_colab_v4.1.ipynb",
      "provenance": [],
      "collapsed_sections": [],
      "toc_visible": true
    },
    "kernelspec": {
      "name": "python3",
      "display_name": "Python 3"
    },
    "accelerator": "GPU"
  },
  "cells": [
    {
      "cell_type": "markdown",
      "metadata": {
        "id": "IXqzXfJZrtmT",
        "colab_type": "text"
      },
      "source": [
        "# Workshop: Anomaly detection from sensor data\n",
        "Course: NICF- Intelligent Sensing and Sense Making (SF)\n",
        "\n",
        "Website: https://www.iss.nus.edu.sg/executive-education/course/detail/intelligent-sensing-and-sense-making/analytics-and-intelligent-systems\n",
        "\n",
        "Contact: Tian Jing\n",
        "\n",
        "Email: tianjing@nus.edu.sg\n",
        "\n",
        "## Installation guideline (Colab)\n",
        "\n",
        "[Last test on 27 August 2019] All required libraries have been installed in Colab.\n",
        "\n",
        "## Objective\n",
        "In this workshop, we will perform following three tasks:\n",
        "\n",
        "- Introduction to autoencoder model and Keras\n",
        "- Perform anomaly detection using autoencoder as reconstruction model\n",
        "\n",
        "## Submission guideline\n",
        "Once you finish the workshop, rename your .ipynb file to your name, and submit your .ipynb file into LumiNUS."
      ]
    },
    {
      "cell_type": "code",
      "metadata": {
        "id": "JbSXdcFNDpoG",
        "colab_type": "code",
        "outputId": "5f1a2e98-6bfc-44ee-e30a-e10e2aa60431",
        "colab": {
          "base_uri": "https://localhost:8080/",
          "height": 97
        }
      },
      "source": [
        "# Check GPU setup in Colab\n",
        "\n",
        "import tensorflow as tf\n",
        "tf.test.gpu_device_name()\n",
        "\n",
        "# Your expected output will be '/device:GPU:0'"
      ],
      "execution_count": 1,
      "outputs": [
        {
          "output_type": "display_data",
          "data": {
            "text/html": [
              "<p style=\"color: red;\">\n",
              "The default version of TensorFlow in Colab will soon switch to TensorFlow 2.x.<br>\n",
              "We recommend you <a href=\"https://www.tensorflow.org/guide/migrate\" target=\"_blank\">upgrade</a> now \n",
              "or ensure your notebook will continue to use TensorFlow 1.x via the <code>%tensorflow_version 1.x</code> magic:\n",
              "<a href=\"https://colab.research.google.com/notebooks/tensorflow_version.ipynb\" target=\"_blank\">more info</a>.</p>\n"
            ],
            "text/plain": [
              "<IPython.core.display.HTML object>"
            ]
          },
          "metadata": {
            "tags": []
          }
        },
        {
          "output_type": "execute_result",
          "data": {
            "text/plain": [
              "'/device:GPU:0'"
            ]
          },
          "metadata": {
            "tags": []
          },
          "execution_count": 1
        }
      ]
    },
    {
      "cell_type": "code",
      "metadata": {
        "id": "ABqVPqhtFDMG",
        "colab_type": "code",
        "outputId": "c9ef0b5e-d766-4f2f-fc57-dd6afed74523",
        "colab": {
          "base_uri": "https://localhost:8080/",
          "height": 289
        }
      },
      "source": [
        "# Check GPU coinfiguration in Colab (T4 GPU)\n",
        "\n",
        "!/opt/bin/nvidia-smi"
      ],
      "execution_count": 2,
      "outputs": [
        {
          "output_type": "stream",
          "text": [
            "Wed Nov 27 06:51:14 2019       \n",
            "+-----------------------------------------------------------------------------+\n",
            "| NVIDIA-SMI 418.67       Driver Version: 418.67       CUDA Version: 10.1     |\n",
            "|-------------------------------+----------------------+----------------------+\n",
            "| GPU  Name        Persistence-M| Bus-Id        Disp.A | Volatile Uncorr. ECC |\n",
            "| Fan  Temp  Perf  Pwr:Usage/Cap|         Memory-Usage | GPU-Util  Compute M. |\n",
            "|===============================+======================+======================|\n",
            "|   0  Tesla K80           Off  | 00000000:00:04.0 Off |                    0 |\n",
            "| N/A   59C    P0    73W / 149W |     69MiB / 11441MiB |      0%      Default |\n",
            "+-------------------------------+----------------------+----------------------+\n",
            "                                                                               \n",
            "+-----------------------------------------------------------------------------+\n",
            "| Processes:                                                       GPU Memory |\n",
            "|  GPU       PID   Type   Process name                             Usage      |\n",
            "|=============================================================================|\n",
            "+-----------------------------------------------------------------------------+\n"
          ],
          "name": "stdout"
        }
      ]
    },
    {
      "cell_type": "code",
      "metadata": {
        "id": "VP5_TSABEcz3",
        "colab_type": "code",
        "outputId": "8710f858-8a6c-4e44-f92b-e29f9c37cbfb",
        "colab": {
          "base_uri": "https://localhost:8080/",
          "height": 34
        }
      },
      "source": [
        "import os\n",
        "import numpy as np\n",
        "import keras\n",
        "import pickle\n",
        "import pandas as pd\n",
        "from keras.utils import plot_model\n",
        "from keras.datasets import fashion_mnist\n",
        "from keras.models import Model\n",
        "from keras.models import Sequential\n",
        "from keras.layers import Dense, Input\n",
        "import matplotlib.pyplot as plt\n",
        "%matplotlib inline\n",
        "from sklearn.metrics import mean_squared_error\n",
        "from sklearn.preprocessing import MinMaxScaler"
      ],
      "execution_count": 3,
      "outputs": [
        {
          "output_type": "stream",
          "text": [
            "Using TensorFlow backend.\n"
          ],
          "name": "stderr"
        }
      ]
    },
    {
      "cell_type": "code",
      "metadata": {
        "id": "Qx_eHkdoFv3e",
        "colab_type": "code",
        "outputId": "26c48f6d-3b9e-4339-ec26-603dfa0e2c0f",
        "colab": {
          "base_uri": "https://localhost:8080/",
          "height": 122
        }
      },
      "source": [
        "# Then you’ll see a link, click on that link, allow access\n",
        "# Copy the code that pops up, paste it in the box, hit enter\n",
        "\n",
        "from google.colab import drive\n",
        "drive.mount('/content/gdrive')"
      ],
      "execution_count": 4,
      "outputs": [
        {
          "output_type": "stream",
          "text": [
            "Go to this URL in a browser: https://accounts.google.com/o/oauth2/auth?client_id=947318989803-6bn6qk8qdgf4n4g3pfee6491hc0brc4i.apps.googleusercontent.com&redirect_uri=urn%3aietf%3awg%3aoauth%3a2.0%3aoob&response_type=code&scope=email%20https%3a%2f%2fwww.googleapis.com%2fauth%2fdocs.test%20https%3a%2f%2fwww.googleapis.com%2fauth%2fdrive%20https%3a%2f%2fwww.googleapis.com%2fauth%2fdrive.photos.readonly%20https%3a%2f%2fwww.googleapis.com%2fauth%2fpeopleapi.readonly\n",
            "\n",
            "Enter your authorization code:\n",
            "··········\n",
            "Mounted at /content/gdrive\n"
          ],
          "name": "stdout"
        }
      ]
    },
    {
      "cell_type": "code",
      "metadata": {
        "id": "d8kuZNznGIiw",
        "colab_type": "code",
        "outputId": "6a278026-2d90-4cd7-b1e4-a9ce361830e2",
        "colab": {
          "base_uri": "https://localhost:8080/",
          "height": 34
        }
      },
      "source": [
        "# Change working directory to be current folder\n",
        "\n",
        "os.chdir('/content/gdrive/My Drive/Colab Notebooks/sensemaking/day3')\n",
        "!ls\n"
      ],
      "execution_count": 6,
      "outputs": [
        {
          "output_type": "stream",
          "text": [
            "data  wk_abnormal_colab_v4.1.ipynb\n"
          ],
          "name": "stdout"
        }
      ]
    },
    {
      "cell_type": "code",
      "metadata": {
        "id": "nR0CFaIOFb28",
        "colab_type": "code",
        "colab": {}
      },
      "source": [
        "# Configuration on autoencoder model\n",
        "\n",
        "# Dimension of input signal, determined by your test data\n",
        "signal_dimension = 784 \n",
        "\n",
        "# Dimension of encoded features, can be adjusted by user\n",
        "encoder_dimension = 2\n",
        "\n",
        "# training setup\n",
        "EPOCHS = 5\n",
        "BATCH_SIZE = 64\n"
      ],
      "execution_count": 0,
      "outputs": []
    },
    {
      "cell_type": "code",
      "metadata": {
        "id": "8EZR6y7x8VFd",
        "colab_type": "code",
        "colab": {}
      },
      "source": [
        "# Define an autoencoder model using Sequential method\n",
        "\n",
        "def AE_method1(x_train):\n",
        "    FINAL_DIM = 900\n",
        "    data_dim = data_train.shape[1]\n",
        "    autoencoder = Sequential()\n",
        "    autoencoder.add(Dense(encoder_dimension, activation='relu', input_shape=(signal_dimension, ), name='layer1'))\n",
        "    autoencoder.add(Dense(signal_dimension, activation='relu',name='layer2'))\n",
        "    autoencoder.compile(optimizer='adam', loss='mse')\n",
        "    autoencoder.fit(x_train, x_train, epochs=EPOCHS, batch_size=BATCH_SIZE, shuffle=True)\n",
        "    \n",
        "    encoder = Model(inputs=autoencoder.input, outputs=autoencoder.get_layer('layer1').output)\n",
        "    return encoder, autoencoder"
      ],
      "execution_count": 0,
      "outputs": []
    },
    {
      "cell_type": "code",
      "metadata": {
        "id": "XUqEnXID8YUP",
        "colab_type": "code",
        "colab": {}
      },
      "source": [
        "# Show the encoding coefficients\n",
        "\n",
        "def show_encodings(inputs, latent_repr, outputs):\n",
        "    n = len(inputs)\n",
        "    fig, axes = plt.subplots(2, n)\n",
        "    for i in range(n):\n",
        "        print(i, '-th image, encoding coefficients are ', latent_repr[i,:])\n",
        "        axes[0, i].imshow(inputs[i].reshape(28, 28), cmap='gray')\n",
        "        axes[1, i].imshow(outputs[i].reshape(28, 28), cmap='gray')\n",
        "    for ax in axes.flatten():\n",
        "        ax.get_xaxis().set_visible(False)\n",
        "        ax.get_yaxis().set_visible(False)\n",
        "    plt.show()"
      ],
      "execution_count": 0,
      "outputs": []
    },
    {
      "cell_type": "code",
      "metadata": {
        "id": "yQJMcysb8bRj",
        "colab_type": "code",
        "outputId": "b8611bbb-5436-4d3c-ea78-488d8266bc5a",
        "colab": {
          "base_uri": "https://localhost:8080/",
          "height": 232
        }
      },
      "source": [
        "# For the first time of running this code, it will automatically download fashion_mnist data from Internet\n",
        "# Load data\n",
        "(data_train, label_train), (data_test, label_test) = fashion_mnist.load_data()\n",
        "print(data_train.shape, data_test.shape)\n",
        "\n",
        "# Normalize\n",
        "data_train = data_train.astype('float32') / 255.\n",
        "data_test = data_test.astype('float32') / 255.\n",
        "\n",
        "# Plot the examples of original images\n",
        "fig, ax = plt.subplots(1, 10)\n",
        "for i in range(10):\n",
        "    ax[i].imshow(data_train[i], cmap='gray')\n",
        "    ax[i].axis('off')\n",
        "\n",
        "plt.show()\n",
        "\n",
        "data_train = data_train.reshape((data_train.shape[0], -1))\n",
        "data_test = data_test.reshape((data_test.shape[0], -1))"
      ],
      "execution_count": 10,
      "outputs": [
        {
          "output_type": "stream",
          "text": [
            "Downloading data from http://fashion-mnist.s3-website.eu-central-1.amazonaws.com/train-labels-idx1-ubyte.gz\n",
            "32768/29515 [=================================] - 0s 0us/step\n",
            "Downloading data from http://fashion-mnist.s3-website.eu-central-1.amazonaws.com/train-images-idx3-ubyte.gz\n",
            "26427392/26421880 [==============================] - 0s 0us/step\n",
            "Downloading data from http://fashion-mnist.s3-website.eu-central-1.amazonaws.com/t10k-labels-idx1-ubyte.gz\n",
            "8192/5148 [===============================================] - 0s 0us/step\n",
            "Downloading data from http://fashion-mnist.s3-website.eu-central-1.amazonaws.com/t10k-images-idx3-ubyte.gz\n",
            "4423680/4422102 [==============================] - 0s 0us/step\n",
            "(60000, 28, 28) (10000, 28, 28)\n"
          ],
          "name": "stdout"
        },
        {
          "output_type": "display_data",
          "data": {
            "image/png": "[encoded data removed]",
            "text/plain": [
              "<Figure size 432x288 with 10 Axes>"
            ]
          },
          "metadata": {
            "tags": []
          }
        }
      ]
    },
    {
      "cell_type": "code",
      "metadata": {
        "id": "sD2sQDMs8hPh",
        "colab_type": "code",
        "outputId": "09a3bf48-6e9c-4822-ca5d-5f4baa071708",
        "colab": {
          "base_uri": "https://localhost:8080/",
          "height": 1000
        }
      },
      "source": [
        "# Demo autoencoder using method 1 (Sequential method)\n",
        "\n",
        "model_encoder, model_autoencoder = AE_method1(x_train=data_train)\n",
        "model_encoder.summary()\n",
        "model_autoencoder.summary()"
      ],
      "execution_count": 11,
      "outputs": [
        {
          "output_type": "stream",
          "text": [
            "WARNING:tensorflow:From /usr/local/lib/python3.6/dist-packages/keras/backend/tensorflow_backend.py:66: The name tf.get_default_graph is deprecated. Please use tf.compat.v1.get_default_graph instead.\n",
            "\n",
            "WARNING:tensorflow:From /usr/local/lib/python3.6/dist-packages/keras/backend/tensorflow_backend.py:541: The name tf.placeholder is deprecated. Please use tf.compat.v1.placeholder instead.\n",
            "\n",
            "WARNING:tensorflow:From /usr/local/lib/python3.6/dist-packages/keras/backend/tensorflow_backend.py:4432: The name tf.random_uniform is deprecated. Please use tf.random.uniform instead.\n",
            "\n",
            "WARNING:tensorflow:From /usr/local/lib/python3.6/dist-packages/keras/optimizers.py:793: The name tf.train.Optimizer is deprecated. Please use tf.compat.v1.train.Optimizer instead.\n",
            "\n",
            "WARNING:tensorflow:From /usr/local/lib/python3.6/dist-packages/keras/backend/tensorflow_backend.py:1033: The name tf.assign_add is deprecated. Please use tf.compat.v1.assign_add instead.\n",
            "\n",
            "WARNING:tensorflow:From /usr/local/lib/python3.6/dist-packages/keras/backend/tensorflow_backend.py:1020: The name tf.assign is deprecated. Please use tf.compat.v1.assign instead.\n",
            "\n",
            "WARNING:tensorflow:From /usr/local/lib/python3.6/dist-packages/keras/backend/tensorflow_backend.py:3005: The name tf.Session is deprecated. Please use tf.compat.v1.Session instead.\n",
            "\n",
            "Epoch 1/5\n",
            "WARNING:tensorflow:From /usr/local/lib/python3.6/dist-packages/keras/backend/tensorflow_backend.py:190: The name tf.get_default_session is deprecated. Please use tf.compat.v1.get_default_session instead.\n",
            "\n",
            "WARNING:tensorflow:From /usr/local/lib/python3.6/dist-packages/keras/backend/tensorflow_backend.py:197: The name tf.ConfigProto is deprecated. Please use tf.compat.v1.ConfigProto instead.\n",
            "\n",
            "WARNING:tensorflow:From /usr/local/lib/python3.6/dist-packages/keras/backend/tensorflow_backend.py:207: The name tf.global_variables is deprecated. Please use tf.compat.v1.global_variables instead.\n",
            "\n",
            "WARNING:tensorflow:From /usr/local/lib/python3.6/dist-packages/keras/backend/tensorflow_backend.py:216: The name tf.is_variable_initialized is deprecated. Please use tf.compat.v1.is_variable_initialized instead.\n",
            "\n",
            "WARNING:tensorflow:From /usr/local/lib/python3.6/dist-packages/keras/backend/tensorflow_backend.py:223: The name tf.variables_initializer is deprecated. Please use tf.compat.v1.variables_initializer instead.\n",
            "\n",
            "60000/60000 [==============================] - 7s 116us/step - loss: 0.0937\n",
            "Epoch 2/5\n",
            "60000/60000 [==============================] - 4s 60us/step - loss: 0.0872\n",
            "Epoch 3/5\n",
            "60000/60000 [==============================] - 4s 60us/step - loss: 0.0870\n",
            "Epoch 4/5\n",
            "60000/60000 [==============================] - 4s 64us/step - loss: 0.0870\n",
            "Epoch 5/5\n",
            "60000/60000 [==============================] - 4s 61us/step - loss: 0.0869\n",
            "Model: \"model_1\"\n",
            "_________________________________________________________________\n",
            "Layer (type)                 Output Shape              Param #   \n",
            "=================================================================\n",
            "layer1_input (InputLayer)    (None, 784)               0         \n",
            "_________________________________________________________________\n",
            "layer1 (Dense)               (None, 2)                 1570      \n",
            "=================================================================\n",
            "Total params: 1,570\n",
            "Trainable params: 1,570\n",
            "Non-trainable params: 0\n",
            "_________________________________________________________________\n",
            "Model: \"sequential_1\"\n",
            "_________________________________________________________________\n",
            "Layer (type)                 Output Shape              Param #   \n",
            "=================================================================\n",
            "layer1 (Dense)               (None, 2)                 1570      \n",
            "_________________________________________________________________\n",
            "layer2 (Dense)               (None, 784)               2352      \n",
            "=================================================================\n",
            "Total params: 3,922\n",
            "Trainable params: 3,922\n",
            "Non-trainable params: 0\n",
            "_________________________________________________________________\n"
          ],
          "name": "stdout"
        }
      ]
    },
    {
      "cell_type": "code",
      "metadata": {
        "id": "S601YZWv8j2X",
        "colab_type": "code",
        "outputId": "8af510d9-2078-45b7-b1f4-afaad4d6cd54",
        "colab": {
          "base_uri": "https://localhost:8080/",
          "height": 303
        }
      },
      "source": [
        "# Visualize the results and encoding coefficients\n",
        "\n",
        "num_sample = 6 # Number of test samples used for visualization\n",
        "data_encode = model_encoder.predict(data_test[:num_sample])\n",
        "\n",
        "data_rec = model_autoencoder.predict(data_test)\n",
        "show_encodings(data_test[:num_sample], data_encode, data_rec)"
      ],
      "execution_count": 12,
      "outputs": [
        {
          "output_type": "stream",
          "text": [
            "0 -th image, encoding coefficients are  [3.444149   0.08829951]\n",
            "1 -th image, encoding coefficients are  [10.956573  5.528159]\n",
            "2 -th image, encoding coefficients are  [0.90403205 9.62      ]\n",
            "3 -th image, encoding coefficients are  [0.        7.7153683]\n",
            "4 -th image, encoding coefficients are  [6.434201  3.9229846]\n",
            "5 -th image, encoding coefficients are  [2.6266901 7.3897705]\n"
          ],
          "name": "stdout"
        },
        {
          "output_type": "display_data",
          "data": {
            "image/png": "[encoded data removed]",
            "text/plain": [
              "<Figure size 432x288 with 12 Axes>"
            ]
          },
          "metadata": {
            "tags": []
          }
        }
      ]
    },
    {
      "cell_type": "code",
      "metadata": {
        "id": "ASPaZxv68v-e",
        "colab_type": "code",
        "colab": {}
      },
      "source": [
        "# Define an autoencoder model using Functional method\n",
        "\n",
        "def AE_method2(x_train):\n",
        "    # input placeholder\n",
        "    input_image = Input(shape=(signal_dimension, ))\n",
        "\n",
        "    # encoding layer\n",
        "    hidden_layer = Dense(encoder_dimension, activation='relu')(input_image)\n",
        "\n",
        "    # decoding layer\n",
        "    decode_output = Dense(signal_dimension, activation='relu')(hidden_layer)\n",
        "\n",
        "    # build autoencoder, encoder, decoder\n",
        "    encoder = Model(inputs=input_image, outputs=hidden_layer)\n",
        "    autoencoder = Model(inputs=input_image, outputs=decode_output)\n",
        "\n",
        "    # compile autoencoder\n",
        "    autoencoder.compile(optimizer='adam', loss='mse')\n",
        "\n",
        "    # training\n",
        "    autoencoder.fit(x_train, x_train, epochs=EPOCHS, batch_size=BATCH_SIZE, shuffle=True)\n",
        "\n",
        "    return encoder, autoencoder"
      ],
      "execution_count": 0,
      "outputs": []
    },
    {
      "cell_type": "markdown",
      "metadata": {
        "id": "M6daH46E83zY",
        "colab_type": "text"
      },
      "source": [
        "$\\color{red}{\\text{Q1. Complete the code to build autoencoder model and visualize the encoding coefficients.}}$\n",
        "\n",
        "Tasks\n",
        "\n",
        "- Build an autoencoder model using `AE_method2()`\n",
        "- Plot the model summary\n",
        "- Perform prediction using the first 5 test samples\n",
        "- Visualize the original sample, encoding coefficients, reconstructed sample"
      ]
    },
    {
      "cell_type": "code",
      "metadata": {
        "id": "WkTVxhdD8y4M",
        "colab_type": "code",
        "colab": {
          "base_uri": "https://localhost:8080/",
          "height": 908
        },
        "outputId": "852557dc-3463-4cc0-a956-c575e6608e26"
      },
      "source": [
        "# Provide your solution to Q1 here\n",
        "\n",
        "model_encoder, model_autoencoder = AE_method2(x_train=data_train)\n",
        "model_encoder.summary()\n",
        "model_autoencoder.summary()\n",
        "\n",
        "data_encode = model_encoder.predict(data_test[:5])\n",
        "\n",
        "data_rec = model_autoencoder.predict(data_test[:5])\n",
        "show_encodings(data_test[:5], data_encode, data_rec)"
      ],
      "execution_count": 16,
      "outputs": [
        {
          "output_type": "stream",
          "text": [
            "Epoch 1/5\n",
            "60000/60000 [==============================] - 4s 62us/step - loss: 0.0946\n",
            "Epoch 2/5\n",
            "60000/60000 [==============================] - 4s 59us/step - loss: 0.0867\n",
            "Epoch 3/5\n",
            "60000/60000 [==============================] - 4s 59us/step - loss: 0.0865\n",
            "Epoch 4/5\n",
            "60000/60000 [==============================] - 4s 60us/step - loss: 0.0865\n",
            "Epoch 5/5\n",
            "60000/60000 [==============================] - 4s 61us/step - loss: 0.0864\n",
            "Model: \"model_4\"\n",
            "_________________________________________________________________\n",
            "Layer (type)                 Output Shape              Param #   \n",
            "=================================================================\n",
            "input_2 (InputLayer)         (None, 784)               0         \n",
            "_________________________________________________________________\n",
            "dense_3 (Dense)              (None, 2)                 1570      \n",
            "=================================================================\n",
            "Total params: 1,570\n",
            "Trainable params: 1,570\n",
            "Non-trainable params: 0\n",
            "_________________________________________________________________\n",
            "Model: \"model_5\"\n",
            "_________________________________________________________________\n",
            "Layer (type)                 Output Shape              Param #   \n",
            "=================================================================\n",
            "input_2 (InputLayer)         (None, 784)               0         \n",
            "_________________________________________________________________\n",
            "dense_3 (Dense)              (None, 2)                 1570      \n",
            "_________________________________________________________________\n",
            "dense_4 (Dense)              (None, 784)               2352      \n",
            "=================================================================\n",
            "Total params: 3,922\n",
            "Trainable params: 3,922\n",
            "Non-trainable params: 0\n",
            "_________________________________________________________________\n",
            "0 -th image, encoding coefficients are  [0.03760104 3.4283938 ]\n",
            "1 -th image, encoding coefficients are  [ 6.3280053 11.801237 ]\n",
            "2 -th image, encoding coefficients are  [9.4727125  0.83970964]\n",
            "3 -th image, encoding coefficients are  [7.4857416 0.       ]\n",
            "4 -th image, encoding coefficients are  [4.1845384 6.725176 ]\n"
          ],
          "name": "stdout"
        },
        {
          "output_type": "display_data",
          "data": {
            "image/png": "[encoded data removed]",
            "text/plain": [
              "<Figure size 432x288 with 10 Axes>"
            ]
          },
          "metadata": {
            "tags": []
          }
        }
      ]
    },
    {
      "cell_type": "markdown",
      "metadata": {
        "id": "1LYi8Lje8_1A",
        "colab_type": "text"
      },
      "source": [
        "# Exercise 2: Machine health monitoring\n",
        "\n",
        "- Reference: R. Zhao, R. Yan, Z. Chen, K. Mao, P. Wang, R. Gao, Deep learning and its applications to machine health monitoring, Mechanical Systems and Signal Processing, Vol. 115, Jan. 2019, pp. 213-237.\n",
        "\n",
        "- pdf paper, https://arxiv.org/abs/1612.07640\n",
        "- code, https://github.com/ClockworkBunny/MHMS_DEEPLEARNING"
      ]
    },
    {
      "cell_type": "code",
      "metadata": {
        "id": "zU4AeFno898f",
        "colab_type": "code",
        "colab": {}
      },
      "source": [
        "# Configuration\n",
        "encoder_dimension = 10\n",
        "NUM_EPOCH = 10\n",
        "BATH_SIZE = 24"
      ],
      "execution_count": 0,
      "outputs": []
    },
    {
      "cell_type": "code",
      "metadata": {
        "id": "ZzShvDsb9Hjh",
        "colab_type": "code",
        "colab": {}
      },
      "source": [
        "# Define an autoencoder model using Sequantial method\n",
        "\n",
        "def build_AE_machine(data_train):\n",
        "    data_dim = data_train.shape[1]\n",
        "    ae = Sequential()\n",
        "    ae.add(Dense(encoder_dimension, activation='relu', input_shape=(data_dim, )))\n",
        "    ae.add(Dense(encoder_dimension, activation='relu', name=\"encoder\"))\n",
        "    ae.add(Dense(data_dim, activation='relu'))\n",
        "    ae.compile(optimizer='adam', loss='mse')\n",
        "    ae.fit(data_train, data_train, epochs=NUM_EPOCH, batch_size=BATH_SIZE, shuffle=True)\n",
        "    \n",
        "    return ae"
      ],
      "execution_count": 0,
      "outputs": []
    },
    {
      "cell_type": "code",
      "metadata": {
        "id": "STmPhD-p9K6A",
        "colab_type": "code",
        "outputId": "1cd8cdaa-a936-4f11-e6b6-dfce7f5eda15",
        "colab": {
          "base_uri": "https://localhost:8080/",
          "height": 595
        }
      },
      "source": [
        "# Load data \n",
        "x_train_pd = pd.read_csv(\"data/machine_sensor_train.csv\",header=None)\n",
        "x_train = x_train_pd.values\n",
        "x_test_pd = pd.read_csv(\"data/machine_sensor_test.csv\",header=None)\n",
        "x_test = x_test_pd.values\n",
        "\n",
        "# Train the model\n",
        "normal_AE, encoder = build_AE_machine(x_train)\n",
        "normal_AE.summary()"
      ],
      "execution_count": 21,
      "outputs": [
        {
          "output_type": "stream",
          "text": [
            "Epoch 1/10\n",
            "600/600 [==============================] - 0s 781us/step - loss: 0.5101\n",
            "Epoch 2/10\n",
            "600/600 [==============================] - 0s 171us/step - loss: 0.4535\n",
            "Epoch 3/10\n",
            "600/600 [==============================] - 0s 172us/step - loss: 0.4508\n",
            "Epoch 4/10\n",
            "600/600 [==============================] - 0s 175us/step - loss: 0.4502\n",
            "Epoch 5/10\n",
            "600/600 [==============================] - 0s 205us/step - loss: 0.4495\n",
            "Epoch 6/10\n",
            "600/600 [==============================] - 0s 167us/step - loss: 0.4488\n",
            "Epoch 7/10\n",
            "600/600 [==============================] - 0s 203us/step - loss: 0.4480\n",
            "Epoch 8/10\n",
            "600/600 [==============================] - 0s 180us/step - loss: 0.4469\n",
            "Epoch 9/10\n",
            "600/600 [==============================] - 0s 187us/step - loss: 0.4456\n",
            "Epoch 10/10\n",
            "600/600 [==============================] - 0s 161us/step - loss: 0.4446\n",
            "Model: \"sequential_3\"\n",
            "_________________________________________________________________\n",
            "Layer (type)                 Output Shape              Param #   \n",
            "=================================================================\n",
            "dense_8 (Dense)              (None, 10)                710       \n",
            "_________________________________________________________________\n",
            "encoder (Dense)              (None, 10)                110       \n",
            "_________________________________________________________________\n",
            "dense_9 (Dense)              (None, 70)                770       \n",
            "=================================================================\n",
            "Total params: 1,590\n",
            "Trainable params: 1,590\n",
            "Non-trainable params: 0\n",
            "_________________________________________________________________\n"
          ],
          "name": "stdout"
        }
      ]
    },
    {
      "cell_type": "code",
      "metadata": {
        "id": "yKDdpJDA9M9q",
        "colab_type": "code",
        "outputId": "aee3d8d2-d30b-4f9e-ccef-3a1dbf512a11",
        "colab": {
          "base_uri": "https://localhost:8080/",
          "height": 51
        }
      },
      "source": [
        "sample_index = 0\n",
        "thre = 10 # A manually-defined threshold\n",
        "\n",
        "# Step 1: Select the test sample (such as the 0-th sample)\n",
        "test_data_orig = x_test[sample_index:sample_index+1,:]\n",
        "print(test_data_orig.shape)\n",
        "\n",
        "# Step 2: Perform prediction using the trained autoencoder model\n",
        "test_data_predict = normal_AE.predict(test_data_orig)\n",
        "\n",
        "# Step 3: Calculate the reconstruction error and make decision on anomaly detection\n",
        "dist = np.linalg.norm(test_data_orig - test_data_predict, axis=-1)\n",
        "\n",
        "if (dist>thre):\n",
        "    print('Anomaly detected: the distance is %.2f' % dist)\n",
        "else:\n",
        "    print('Normal: the distance is %.2f' % dist)\n",
        "    "
      ],
      "execution_count": 23,
      "outputs": [
        {
          "output_type": "stream",
          "text": [
            "(1, 70)\n",
            "Normal: the distance is 6.73\n"
          ],
          "name": "stdout"
        }
      ]
    },
    {
      "cell_type": "markdown",
      "metadata": {
        "id": "kQX1zW1o9PTY",
        "colab_type": "text"
      },
      "source": [
        "$\\color{red}{\\text{Q2. Complete the code to build autoencoder model for abnormal machine sensory signal detection.}}$\n",
        "\n",
        "Tasks\n",
        "\n",
        "- Build an autoencoder model using build_AE_machine()\n",
        "- Peform the test on x_test and determine the test data (row index) with LARGEST reconstruction error based on your trained model"
      ]
    },
    {
      "cell_type": "code",
      "metadata": {
        "id": "E4EtS-Tw9clt",
        "colab_type": "code",
        "colab": {
          "base_uri": "https://localhost:8080/",
          "height": 612
        },
        "outputId": "91440ffc-f457-4280-ce8f-2b908305e52d"
      },
      "source": [
        "# Provide your solution to Q2 here\n",
        "\n",
        "def build_AE_machine(data_train):\n",
        "    data_dim = data_train.shape[1]\n",
        "    ae = Sequential()\n",
        "    ae.add(Dense(encoder_dimension, activation='relu', input_shape=(data_dim, )))\n",
        "    ae.add(Dense(encoder_dimension, activation='relu', name=\"encoder\"))\n",
        "    ae.add(Dense(data_dim, activation='relu'))\n",
        "    ae.compile(optimizer='adam', loss='mse')\n",
        "    ae.fit(data_train, data_train, epochs=NUM_EPOCH, batch_size=BATH_SIZE, shuffle=True)\n",
        "    \n",
        "    return ae, Model(inputs=ae.input, outputs=ae.get_layer('encoder').output)\n",
        "\n",
        "normal_AE, encoder = build_AE_machine(x_train)\n",
        "normal_AE.summary()\n",
        "  \n",
        "test_data_predict = normal_AE.predict(x_test)\n",
        "test_data_encoded = encoder.predict(x_test)\n",
        "\n",
        "\n",
        "err = np.apply_along_axis(np.sum, 1, np.abs(x_test - test_data_predict))\n",
        "\n",
        "print(\"Top error data index: {}\".format(np.argmax(err)))\n"
      ],
      "execution_count": 40,
      "outputs": [
        {
          "output_type": "stream",
          "text": [
            "Epoch 1/10\n",
            "600/600 [==============================] - 0s 771us/step - loss: 0.5745\n",
            "Epoch 2/10\n",
            "600/600 [==============================] - 0s 160us/step - loss: 0.4574\n",
            "Epoch 3/10\n",
            "600/600 [==============================] - 0s 158us/step - loss: 0.4507\n",
            "Epoch 4/10\n",
            "600/600 [==============================] - 0s 155us/step - loss: 0.4505\n",
            "Epoch 5/10\n",
            "600/600 [==============================] - 0s 157us/step - loss: 0.4503\n",
            "Epoch 6/10\n",
            "600/600 [==============================] - 0s 180us/step - loss: 0.4501\n",
            "Epoch 7/10\n",
            "600/600 [==============================] - 0s 156us/step - loss: 0.4498\n",
            "Epoch 8/10\n",
            "600/600 [==============================] - 0s 175us/step - loss: 0.4492\n",
            "Epoch 9/10\n",
            "600/600 [==============================] - 0s 198us/step - loss: 0.4483\n",
            "Epoch 10/10\n",
            "600/600 [==============================] - 0s 161us/step - loss: 0.4473\n",
            "Model: \"sequential_5\"\n",
            "_________________________________________________________________\n",
            "Layer (type)                 Output Shape              Param #   \n",
            "=================================================================\n",
            "dense_12 (Dense)             (None, 10)                710       \n",
            "_________________________________________________________________\n",
            "encoder (Dense)              (None, 10)                110       \n",
            "_________________________________________________________________\n",
            "dense_13 (Dense)             (None, 70)                770       \n",
            "=================================================================\n",
            "Total params: 1,590\n",
            "Trainable params: 1,590\n",
            "Non-trainable params: 0\n",
            "_________________________________________________________________\n",
            "Top error data index: 1\n"
          ],
          "name": "stdout"
        }
      ]
    },
    {
      "cell_type": "markdown",
      "metadata": {
        "id": "NGM54frFug21",
        "colab_type": "text"
      },
      "source": [
        "**Once you finish the workshop, rename your .ipynb file to your name, and submit your .ipynb file into LumiNUS.**\n",
        "\n",
        "Have a nice day!"
      ]
    }
  ]
}